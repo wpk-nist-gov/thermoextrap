{
 "cells": [
  {
   "cell_type": "code",
   "execution_count": 1,
   "id": "0",
   "metadata": {
    "tags": [
     "remove-cell"
    ]
   },
   "outputs": [],
   "source": [
    "import logging\n",
    "import warnings\n",
    "\n",
    "import numpy as np\n",
    "\n",
    "np.set_printoptions(precision=4)\n",
    "warnings.filterwarnings(\"ignore\")\n",
    "\n",
    "\n",
    "logger = logging.getLogger()\n",
    "logger.setLevel(logging.ERROR)"
   ]
  },
  {
   "cell_type": "markdown",
   "id": "1",
   "metadata": {},
   "source": [
    "# Extrapolation in volume and custom derivatives\n",
    "\n",
    "\n",
    "There may be some cases where a custom derivative needs to be written. Most likely, this will be when you can't write the necessary averages in terms of the observable and a specific Hamiltonian or thermodynamic conjugate variable. For instance, this might occur when extrapolating over volume in the NVT ensemble (see https://aip.scitation.org/doi/10.1063/5.0014282). In these cases, it is useful to know how to write custom derivative calculation functions and merge them back into the capabilities of the {mod}`thermoextrap` package.\n",
    "\n",
    "This example will be based on the code found in {mod}`thermoextrap.volume`, with sections of that file reproduced here for pedagogical purposes.\n",
    "\n",
    "First, it is useful to know the structure of how extrapolation coefficients (derivatives) are calculated in {mod}`thermoextrap`. Handily, there is a class called {class}`thermoextrap.models.Derivatives` that uses functions or arrays of functions to compute derivatives at specific orders. Typically, these functions are generated using sympy based on known relationships between the derivatives and moments of the observable and Hamiltonian. However, they can instead be specified manually."
   ]
  },
  {
   "cell_type": "code",
   "execution_count": 2,
   "id": "2",
   "metadata": {},
   "outputs": [],
   "source": [
    "%matplotlib inline\n",
    "\n",
    "import cmomy\n",
    "import matplotlib as mpl\n",
    "import matplotlib.pyplot as plt\n",
    "import numpy as np\n",
    "import xarray as xr\n",
    "\n",
    "rng = cmomy.random.default_rng(seed=0)"
   ]
  },
  {
   "cell_type": "markdown",
   "id": "3",
   "metadata": {},
   "source": [
    "Our goal here will be to extrapolate in volume (or 1D length) for the 1D ideal gas test system.\n",
    "\n",
    "To extrapolate in volume we need observable values at each snapshot along with values of the virial at each snapshot. For the ideal gas system, the virial is given by $W = -\\sum_{i} \\frac{\\mathrm{d}U}{\\mathrm{d}x_{i}} x_{i} = -\\sum_{i} a x_{i}$, which for $a=1$ leads us to $W = -N \\langle x \\rangle$, where the average is over all particles of a given configuration. For the purposes of extrapolation, we need a dimensionless virial, so $W$ will be multiplied by $\\beta$.\n",
    "\n",
    "For any observable, there is a unique term that appears in the derivative with respect to system size or volume, specifically $\\langle \\sum_{i} \\frac{\\partial Y}{\\partial x_i} x_{i}$ where $Y$ is the observable and $x_i$ is the $i^\\mathrm{th}$ degree of freedom. In the ideal gas system at hand, $Y = \\frac{1}{N} \\sum_{i} x_{i}$ so that this correction term is equal to the observable itself, $Y = \\langle x \\rangle$, with again the average here only over all particles. It is interesting that the virial is then exactly $N$ times larger than this correction term. This is typical, as the virial will scale with the number of degrees of freedom in the system. As a result the correction term is 1000 times smaller than the other two terms appearing in the first derivative with respect to system size, $L$. However, the other two terms nearly cancel, resulting in a small difference the same order of magnitude as the correction term. For any system you work with, you should check the magnitude of the unique correction term, either visually or by deriving and computing it."
   ]
  },
  {
   "cell_type": "markdown",
   "id": "4",
   "metadata": {},
   "source": [
    "Getting back to the code, below is a custom derivative calculation function appearing in xtrap.volume.py. This will actually work for any extrapolation in volume for the NVT ensemble, not just for the 1D ideal gas test system."
   ]
  },
  {
   "cell_type": "code",
   "execution_count": 3,
   "id": "5",
   "metadata": {},
   "outputs": [],
   "source": [
    "import thermoextrap as xtrap"
   ]
  },
  {
   "cell_type": "code",
   "execution_count": 4,
   "id": "6",
   "metadata": {},
   "outputs": [],
   "source": [
    "class VolumeDerivFuncs:\n",
    "    \"\"\"\n",
    "    Calculates specific derivative values at refV with data x and W.\n",
    "    Only go to first order for volume extrapolation.\n",
    "    Here W represents the virial instead of the potential energy.\n",
    "    \"\"\"\n",
    "\n",
    "    def __getitem__(self, order):\n",
    "        # Check to make sure not going past first order\n",
    "        if order > 1:\n",
    "            raise ValueError(\n",
    "                \"Volume derivatives cannot go past 1st order\"\n",
    "                + f\" and received {order}\" % order\n",
    "                + \"\\n(because would need derivatives of forces)\"\n",
    "            )\n",
    "        return self.create_deriv_func(order)\n",
    "\n",
    "    @staticmethod\n",
    "    def create_deriv_func(order):\n",
    "        def func(W, xW, dxdq, volume, ndim=1):\n",
    "            \"\"\"Dxdq is <sum_{i=1}^N dy/dx_i x_i>\"\"\"\n",
    "            # NOTE: W here has beta in it:\n",
    "            # that is W <- beta * virial\n",
    "\n",
    "            # Zeroth order derivative\n",
    "            if order == 0:\n",
    "                deriv_val = xW[0]\n",
    "            # First order derivative\n",
    "            else:\n",
    "                deriv_val = (-xW[0] * W[1] + xW[1] + dxdq) / (volume * ndim)\n",
    "            return deriv_val\n",
    "\n",
    "        return func"
   ]
  },
  {
   "cell_type": "markdown",
   "id": "7",
   "metadata": {},
   "source": [
    "There are two key components in the above class: a `__getitem__` method and a `create_deriv_func` method. `__getitem__` is used to specify which order of derivative we want and return it - if this was an array of functions, we could just store the array and access them for the appropriate order. Here, this method just ensures that we don't try and go past 1st order in our derivatives (because that is not implemented) and returns the derivative function shown. The `create_deriv_func` returns the appropriate derivative at the specified order. The function it returns takes as inputs the virial moments (would be array of potential energy moments in other scenarios), array of moments of the product of $x$ and $W$, an explicit derivative term for of the observable with respect to the extrapolation variable, and the volume (or $L$ for the 1D ideal gas here). The last argument, `ndim`, is the dimensionality of the system, so just 1 for the 1D ideal gas, but would be 3 in more typical systems."
   ]
  },
  {
   "cell_type": "code",
   "execution_count": 5,
   "id": "8",
   "metadata": {},
   "outputs": [],
   "source": [
    "# Import idealgas module\n",
    "\n",
    "\n",
    "from thermoextrap import idealgas\n",
    "\n",
    "# Set temperature and volumes\n",
    "beta = 1.0\n",
    "volumes = np.arange(0.5, 10.0, 0.5)\n",
    "\n",
    "# Define our reference size to extrapolated from\n",
    "volume_ref = volumes[9]\n",
    "\n",
    "npart = 1000  # Number of particles (in single configuration)\n",
    "nconfig = 100_000  # Number of configurations\n",
    "\n",
    "# And generate new data at this reference size, using a beta of 1.0 for simplicity\n",
    "xdatavol, udatavol = idealgas.generate_data((nconfig, npart), beta=beta, vol=volume_ref)\n",
    "\n",
    "# Wrap with xarray\n",
    "xdatavol = xr.DataArray(xdatavol, dims=[\"rec\"])\n",
    "udatavol = xr.DataArray(udatavol, dims=[\"rec\"])\n",
    "\n",
    "# For the IG model, the virial W is the same as the negative of the number of particles multiplied by the average position\n",
    "# (for a=1)\n",
    "# And we have to multiply by beta to make the virial dimensionless\n",
    "wdatavol = -1.0 * npart * xdatavol"
   ]
  },
  {
   "cell_type": "markdown",
   "id": "9",
   "metadata": {},
   "source": [
    "Next we create and train our volume extrapolation model and check its outputs. You can look at {func}`~thermoextrap.volume.factory_extrapmodel`, but it's nearly identical to that in {mod}`thermoextrap.beta`, but uses specialized data callbacks and {class}`~thermoextrap.models.Derivatives` models. We have already demonstrated above how to specify custom derivatives for the {class}`~thermoextrap.models.Derivatives` model.\n",
    "\n",
    "To create a special callback in a data object, follow {class}`thermoextrap.volume.VolumeDataCallback`, reproduced below. Passing such callbacks to a data object through the argument `meta` is a very flexible way to adjust the data structures and information provided when calculating derivatives. Here, we extend the data class to also track the quantity `dxdqv`, or the specific derivative of the observable with respect to the extrapolation variable and is unique for every observable (see https://aip.scitation.org/doi/10.1063/5.0014282).\n",
    "\n",
    "Basically, the argument `meta` takes one of these custom callbacks with the implemented methods shown below (ignore `dxdqv`, though, as that is specific to this case). You must implement methods to define the names of extra parameters `param_names`, to resample, and to pass extra information to the derivative calculation function `deriv_args`. Note that the method `deriv_args` should mirror the input structure in the above custom derivative function, with extra arguments from the callback added to what is typically passed through the `deriv_args` function of the base data class (specifically, the potential energy moments and $xU$ moments, which here are virial and $xW$ moments)."
   ]
  },
  {
   "cell_type": "code",
   "execution_count": 6,
   "id": "10",
   "metadata": {},
   "outputs": [],
   "source": [
    "import attrs\n",
    "from module_utilities import cached\n",
    "\n",
    "\n",
    "@attrs.define\n",
    "class VolumeDataCallback(xtrap.data.DataCallbackABC):\n",
    "    \"\"\"object to handle callbacks of metadata\"\"\"\n",
    "\n",
    "    volume: float = attrs.field(validator=attrs.validators.instance_of(float))\n",
    "    dxdqv: xr.DataArray = attrs.field(\n",
    "        validator=attrs.validators.instance_of(xr.DataArray)\n",
    "    )\n",
    "    ndim: int = attrs.field(default=3, validator=attrs.validators.instance_of(int))\n",
    "\n",
    "    def check(self, data) -> None:\n",
    "        pass\n",
    "\n",
    "    @property\n",
    "    def param_names(self):\n",
    "        return [\"volume\", \"dxdqv\", \"ndim\"]\n",
    "\n",
    "    @cached.meth\n",
    "    def dxdq(self, rec_dim, skipna):\n",
    "        return self.dxdqv.mean(rec_dim, skipna=skipna)\n",
    "\n",
    "    def resample(self, data, meta_kws, indices, **kws):\n",
    "        return self.new_like(dxdqv=self.dxdqv[indices])\n",
    "\n",
    "    def deriv_args(self, data, deriv_args):\n",
    "        return (\n",
    "            *tuple(deriv_args),\n",
    "            self.dxdq(rec_dim=data.rec_dim, skipna=data.skipna),\n",
    "            self.volume,\n",
    "            self.ndim,\n",
    "        )"
   ]
  },
  {
   "cell_type": "code",
   "execution_count": 7,
   "id": "11",
   "metadata": {},
   "outputs": [],
   "source": [
    "xemv = xtrap.volume.factory_extrapmodel(\n",
    "    volume=volume_ref,\n",
    "    # this is actually w\n",
    "    uv=wdatavol,\n",
    "    xv=xdatavol,\n",
    "    # dxdqv = single observation of sum(dx/dq_i q_i) where q_i is the ith coordinate\n",
    "    # for ideal gas, this is just xdata\n",
    "    dxdqv=xdatavol,\n",
    "    ndim=1,\n",
    ")"
   ]
  },
  {
   "cell_type": "code",
   "execution_count": 8,
   "id": "12",
   "metadata": {},
   "outputs": [
    {
     "data": {
      "text/plain": [
       "DataCentralMomentsVals(meta=VolumeDataCallback(volume=5.0, dxdqv=<xarray.DataArray (rep: 100, rec: 100000)> Size: 80MB\n",
       "array([[0.9643, 0.945 , 0.972 , ..., 0.9794, 1.0292, 0.9493],\n",
       "       [1.0295, 0.9327, 0.9943, ..., 0.9955, 0.9677, 0.968 ],\n",
       "       [0.961 , 0.9611, 0.9295, ..., 0.9535, 0.9424, 0.9151],\n",
       "       ...,\n",
       "       [0.9817, 0.9893, 0.971 , ..., 0.999 , 0.9989, 0.989 ],\n",
       "       [1.0031, 0.9609, 0.9303, ..., 0.9588, 0.9442, 0.9889],\n",
       "       [0.9899, 0.9262, 1.0107, ..., 0.9793, 0.9503, 0.9679]])\n",
       "Dimensions without coordinates: rep, rec, ndim=1), umom_dim='umom', deriv_dim=None, xmom_dim='xmom', rec_dim='rec', central=False, x_is_u=None, _use_cache=True, uv=<xarray.DataArray (rep: 100, rec: 100000)> Size: 80MB\n",
       "array([[ -964.3265,  -945.0338,  -972.0076, ...,  -979.4306, -1029.1505,\n",
       "         -949.2677],\n",
       "       [-1029.4963,  -932.7293,  -994.2952, ...,  -995.4652,  -967.722 ,\n",
       "         -968.0245],\n",
       "       [ -961.0341,  -961.056 ,  -929.5435, ...,  -953.4791,  -942.4041,\n",
       "         -915.1136],\n",
       "       ...,\n",
       "       [ -981.7355,  -989.2521,  -970.9601, ...,  -998.9505,  -998.9235,\n",
       "         -988.9737],\n",
       "       [-1003.0948,  -960.9222,  -930.2621, ...,  -958.7821,  -944.1744,\n",
       "         -988.8942],\n",
       "       [ -989.8773,  -926.2173, -1010.7326, ...,  -979.3198,  -950.2932,\n",
       "         -967.8904]])\n",
       "Dimensions without coordinates: rep, rec, xv=<xarray.DataArray (rep: 100, rec: 100000)> Size: 80MB\n",
       "array([[0.9643, 0.945 , 0.972 , ..., 0.9794, 1.0292, 0.9493],\n",
       "       [1.0295, 0.9327, 0.9943, ..., 0.9955, 0.9677, 0.968 ],\n",
       "       [0.961 , 0.9611, 0.9295, ..., 0.9535, 0.9424, 0.9151],\n",
       "       ...,\n",
       "       [0.9817, 0.9893, 0.971 , ..., 0.999 , 0.9989, 0.989 ],\n",
       "       [1.0031, 0.9609, 0.9303, ..., 0.9588, 0.9442, 0.9889],\n",
       "       [0.9899, 0.9262, 1.0107, ..., 0.9793, 0.9503, 0.9679]])\n",
       "Dimensions without coordinates: rep, rec, _order=1, weight=None, from_vals_kws={}, resample_values=True, _dxduave=None)"
      ]
     },
     "execution_count": 8,
     "metadata": {},
     "output_type": "execute_result"
    }
   ],
   "source": [
    "xemv.data.resample(sampler={\"nrep\": 100})"
   ]
  },
  {
   "cell_type": "code",
   "execution_count": 9,
   "id": "13",
   "metadata": {},
   "outputs": [
    {
     "name": "stderr",
     "output_type": "stream",
     "text": [
      "OMP: Info #276: omp_set_nested routine deprecated, please use omp_set_max_active_levels instead.\n"
     ]
    },
    {
     "name": "stdout",
     "output_type": "stream",
     "text": [
      "Model parameters (derivatives):\n",
      " [0.966  0.0269]\n",
      "Model predictions:\n",
      " [0.8451 0.8586 0.872  0.8854]\n"
     ]
    },
    {
     "name": "stdout",
     "output_type": "stream",
     "text": [
      "Bootstrapped uncertainties in predictions:\n",
      " [0.0035 0.0031 0.0027 0.0023]\n"
     ]
    }
   ],
   "source": [
    "# Check the computation of derivatives\n",
    "print(\"Model parameters (derivatives):\\n\", xemv.derivs(norm=False).values)\n",
    "\n",
    "# Finally, look at predictions\n",
    "print(\"Model predictions:\\n\", xemv.predict(volumes[:4]).values)\n",
    "# And bootstrapped uncertainties\n",
    "print(\n",
    "    \"Bootstrapped uncertainties in predictions:\\n\",\n",
    "    xemv.resample(sampler={\"nrep\": 100}).predict(volumes[:4]).std(\"rep\").values,\n",
    ")"
   ]
  },
  {
   "cell_type": "code",
   "execution_count": 10,
   "id": "14",
   "metadata": {},
   "outputs": [
    {
     "name": "stdout",
     "output_type": "stream",
     "text": [
      "True extrapolation coefficients: [0.9661 0.0274]\n"
     ]
    },
    {
     "name": "stdout",
     "output_type": "stream",
     "text": [
      "\t With N_configs = 10: [0.9572 0.0866]\n",
      "\t With N_configs = 100: [0.9637 0.0683]\n",
      "\t With N_configs = 1000: [0.9654 0.0307]\n",
      "\t With N_configs = 10000: [0.9662 0.0315]\n",
      "\t With N_configs = 100000: [0.966  0.0269]\n"
     ]
    },
    {
     "data": {
      "image/png": "[encoded data removed]",
      "text/plain": [
       "<Figure size 640x480 with 1 Axes>"
      ]
     },
     "metadata": {},
     "output_type": "display_data"
    }
   ],
   "source": [
    "fig, ax = plt.subplots()\n",
    "\n",
    "nsampvals = np.array((10.0 * np.ones(5)) ** np.arange(1, 6), dtype=int)\n",
    "nsampcolors = plt.cm.viridis(np.arange(0.0, 1.0, float(1.0 / len(nsampvals))))\n",
    "\n",
    "# First plot the analytical result\n",
    "ax.plot(volumes, idealgas.x_ave(beta, volumes), \"k--\", linewidth=2.0)\n",
    "\n",
    "# And the infinite sampling results for first order extrapolation\n",
    "trueExtrap, trueDerivs = idealgas.x_vol_extrap(1, volume_ref, volumes, beta=beta)\n",
    "ax.plot(volumes, trueExtrap, \"r-\", zorder=0)\n",
    "print(f\"True extrapolation coefficients: {trueDerivs}\")\n",
    "\n",
    "for i, n in enumerate(nsampvals):\n",
    "    thisinds = rng.choice(len(xdatavol), size=n, replace=False)\n",
    "\n",
    "    # Get parameters for extrapolation model with this data by training it - the parameters are the derivatives\n",
    "    xemv = xtrap.volume.factory_extrapmodel(\n",
    "        volume=volume_ref,\n",
    "        # this is actually w\n",
    "        uv=wdatavol[thisinds],\n",
    "        xv=xdatavol[thisinds],\n",
    "        dxdqv=xdatavol[thisinds],\n",
    "        ndim=1,\n",
    "    )\n",
    "\n",
    "    out = xemv.predict(volumes)\n",
    "    print(f\"\\t With N_configs = {n}: {xemv.derivs(norm=False).values}\")\n",
    "\n",
    "    out.plot(marker=\"s\", ms=4, color=nsampcolors[i], ls=\"None\", label=f\"N={n}\", ax=ax)\n",
    "\n",
    "ax.set_ylabel(r\"$\\langle x \\rangle$\")\n",
    "ax.set_xlabel(r\"$L$\")\n",
    "\n",
    "ax.annotate(\"O(1) Extrapolation\", xy=(0.4, 0.7), xycoords=\"axes fraction\", fontsize=9)\n",
    "\n",
    "ax.set_ylim((-1.0, 4.0))\n",
    "ax.yaxis.set_major_locator(mpl.ticker.MaxNLocator(nbins=4, prune=\"both\"))\n",
    "\n",
    "fig.tight_layout()\n",
    "fig.subplots_adjust(hspace=0.0)\n",
    "\n",
    "ax.set_title(None)\n",
    "\n",
    "plt.legend()\n",
    "plt.show()"
   ]
  },
  {
   "cell_type": "code",
   "execution_count": null,
   "id": "15",
   "metadata": {},
   "outputs": [],
   "source": []
  }
 ],
 "metadata": {
  "celltoolbar": "Tags",
  "hide_input": false,
  "language_info": {
   "codemirror_mode": {
    "name": "ipython",
    "version": 3
   },
   "file_extension": ".py",
   "mimetype": "text/x-python",
   "name": "python",
   "nbconvert_exporter": "python",
   "pygments_lexer": "ipython3",
   "version": "3.12.11"
  },
  "toc": {
   "base_numbering": 1,
   "nav_menu": {},
   "number_sections": true,
   "sideBar": true,
   "skip_h1_title": false,
   "title_cell": "Table of Contents",
   "title_sidebar": "Contents",
   "toc_cell": false,
   "toc_position": {},
   "toc_section_display": true,
   "toc_window_display": true
  }
 },
 "nbformat": 4,
 "nbformat_minor": 5
}
